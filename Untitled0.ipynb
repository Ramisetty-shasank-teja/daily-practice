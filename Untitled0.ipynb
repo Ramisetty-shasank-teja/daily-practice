{
  "nbformat": 4,
  "nbformat_minor": 0,
  "metadata": {
    "colab": {
      "provenance": [],
      "authorship_tag": "ABX9TyOxqYyoly36A/dCb8MDLP8a",
      "include_colab_link": true
    },
    "kernelspec": {
      "name": "python3",
      "display_name": "Python 3"
    },
    "language_info": {
      "name": "python"
    }
  },
  "cells": [
    {
      "cell_type": "markdown",
      "metadata": {
        "id": "view-in-github",
        "colab_type": "text"
      },
      "source": [
        "<a href=\"https://colab.research.google.com/github/Ramisetty-shasank-teja/daily-practice/blob/main/Untitled0.ipynb\" target=\"_parent\"><img src=\"https://colab.research.google.com/assets/colab-badge.svg\" alt=\"Open In Colab\"/></a>"
      ]
    },
    {
      "cell_type": "code",
      "execution_count": null,
      "metadata": {
        "id": "FJJ_0UsCJoEk"
      },
      "outputs": [],
      "source": [
        "char = input(\"Enter a character: \")\n",
        "ascii_value = ord(char)\n",
        "print(f\"The ASCII value of '{char}' is {ascii_value}\")\n"
      ]
    }
  ]
}