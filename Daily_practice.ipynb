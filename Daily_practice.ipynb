{
  "nbformat": 4,
  "nbformat_minor": 0,
  "metadata": {
    "colab": {
      "provenance": [],
      "authorship_tag": "ABX9TyPmJ6AEy4NPPVFtnfZ2Eaub",
      "include_colab_link": true
    },
    "kernelspec": {
      "name": "python3",
      "display_name": "Python 3"
    },
    "language_info": {
      "name": "python"
    }
  },
  "cells": [
    {
      "cell_type": "markdown",
      "metadata": {
        "id": "view-in-github",
        "colab_type": "text"
      },
      "source": [
        "<a href=\"https://colab.research.google.com/github/Ramisetty-shasank-teja/daily-practice/blob/main/Daily_practice.ipynb\" target=\"_parent\"><img src=\"https://colab.research.google.com/assets/colab-badge.svg\" alt=\"Open In Colab\"/></a>"
      ]
    },
    {
      "cell_type": "code",
      "source": [
        "def remove_vowels(text):\n",
        "    vowels = \"aeiouAEIOU\"\n",
        "    result = \"\"\n",
        "\n",
        "    for char in text:\n",
        "        if char not in vowels:\n",
        "            result += char\n",
        "    return result\n",
        "\n",
        "# Example usage\n",
        "input_str = input(\"Enter a string: \")\n",
        "output_str = remove_vowels(input_str)\n",
        "print(\"String without vowels:\", output_str)\n"
      ],
      "metadata": {
        "colab": {
          "base_uri": "https://localhost:8080/"
        },
        "id": "o7xtMhwXXy-o",
        "outputId": "f21cdc9f-ec8a-4126-8da8-3a751b8045de"
      },
      "execution_count": 10,
      "outputs": [
        {
          "output_type": "stream",
          "name": "stdout",
          "text": [
            "Enter a string: shasank\n",
            "String without vowels: shsnk\n"
          ]
        }
      ]
    },
    {
      "cell_type": "code",
      "source": [
        "char = input(\"Enter a character: \")\n",
        "ascii_value = ord(char)\n",
        "print(f\"The ASCII value of '{char}' is {ascii_value}\")\n"
      ],
      "metadata": {
        "colab": {
          "base_uri": "https://localhost:8080/"
        },
        "id": "hjkKWFYbKttl",
        "outputId": "86e52a0b-b5cf-4d80-9d33-f7430798d8f5"
      },
      "execution_count": 9,
      "outputs": [
        {
          "output_type": "stream",
          "name": "stdout",
          "text": [
            "Enter a character:  \n",
            "The ASCII value of ' ' is 32\n"
          ]
        }
      ]
    },
    {
      "cell_type": "code",
      "source": [
        "def is_palindrome(text):\n",
        "    # Remove spaces and convert to lowercase for uniformity\n",
        "    cleaned_text = text.replace(\" \", \"\").lower()\n",
        "\n",
        "    # Compare string with its reverse\n",
        "    return cleaned_text == cleaned_text[::-1]\n",
        "\n",
        "# Input from user\n",
        "user_input = input(\"Enter a string: \")\n",
        "\n",
        "# Check and display result\n",
        "if is_palindrome(user_input):\n",
        "    print(\"Palindrome ✅\")\n",
        "else:\n",
        "    print(\"Not a palindrome ❌\")\n"
      ],
      "metadata": {
        "colab": {
          "base_uri": "https://localhost:8080/"
        },
        "id": "k78gi210GK_T",
        "outputId": "fb173442-3868-4897-a39b-8b0453dede95"
      },
      "execution_count": null,
      "outputs": [
        {
          "output_type": "stream",
          "name": "stdout",
          "text": [
            "Enter a string: pythin is easy\n",
            "Not a palindrome ❌\n"
          ]
        }
      ]
    },
    {
      "cell_type": "code",
      "execution_count": null,
      "metadata": {
        "colab": {
          "base_uri": "https://localhost:8080/"
        },
        "id": "hwJVBupE85YI",
        "outputId": "493f94c8-ab57-419f-8442-c6e0ef352cfc"
      },
      "outputs": [
        {
          "output_type": "stream",
          "name": "stdout",
          "text": [
            "hello world\n",
            "\u001b[33mhint: Using 'master' as the name for the initial branch. This default branch name\u001b[m\n",
            "\u001b[33mhint: is subject to change. To configure the initial branch name to use in all\u001b[m\n",
            "\u001b[33mhint: of your new repositories, which will suppress this warning, call:\u001b[m\n",
            "\u001b[33mhint: \u001b[m\n",
            "\u001b[33mhint: \tgit config --global init.defaultBranch <name>\u001b[m\n",
            "\u001b[33mhint: \u001b[m\n",
            "\u001b[33mhint: Names commonly chosen instead of 'master' are 'main', 'trunk' and\u001b[m\n",
            "\u001b[33mhint: 'development'. The just-created branch can be renamed via this command:\u001b[m\n",
            "\u001b[33mhint: \u001b[m\n",
            "\u001b[33mhint: \tgit branch -m <name>\u001b[m\n",
            "Initialized empty Git repository in /content/.git/\n",
            "Switched to a new branch 'main'\n",
            "[main (root-commit) c17e351] Initial commit\n",
            " 22 files changed, 51026 insertions(+)\n",
            " create mode 100644 .config/.last_opt_in_prompt.yaml\n",
            " create mode 100644 .config/.last_survey_prompt.yaml\n",
            " create mode 100644 .config/.last_update_check.json\n",
            " create mode 100644 .config/active_config\n",
            " create mode 100644 .config/config_sentinel\n",
            " create mode 100644 .config/configurations/config_default\n",
            " create mode 100644 .config/default_configs.db\n",
            " create mode 100644 .config/gce\n",
            " create mode 100644 .config/hidden_gcloud_config_universe_descriptor_data_cache_configs.db\n",
            " create mode 100644 .config/logs/2025.07.23/13.38.40.193500.log\n",
            " create mode 100644 .config/logs/2025.07.23/13.39.06.943778.log\n",
            " create mode 100644 .config/logs/2025.07.23/13.39.15.657241.log\n",
            " create mode 100644 .config/logs/2025.07.23/13.39.18.294679.log\n",
            " create mode 100644 .config/logs/2025.07.23/13.39.27.206575.log\n",
            " create mode 100644 .config/logs/2025.07.23/13.39.27.961516.log\n",
            " create mode 100644 sample.py\n",
            " create mode 100755 sample_data/README.md\n",
            " create mode 100755 sample_data/anscombe.json\n",
            " create mode 100644 sample_data/california_housing_test.csv\n",
            " create mode 100644 sample_data/california_housing_train.csv\n",
            " create mode 100644 sample_data/mnist_test.csv\n",
            " create mode 100644 sample_data/mnist_train_small.csv\n",
            "fatal: could not read Username for 'https://github.com': No such device or address\n"
          ]
        }
      ],
      "source": [
        "print(\"hello world\")\n",
        "!git config --global user.name \"Ramisetty-shasank-teja\"\n",
        "!git config --global user.email \"shasankteja2005@gmail.com\"\n",
        "!git init\n",
        "!git remote add origin https://github.com/Ramisetty-shasank-teja/daily-practice.git\n",
        "!git checkout -b main\n",
        "!git add .\n",
        "!git commit -m \"Initial commit\"\n",
        "!git push -u origin main\n",
        "\n"
      ]
    }
  ]
}