{
  "nbformat": 4,
  "nbformat_minor": 0,
  "metadata": {
    "colab": {
      "provenance": [],
      "authorship_tag": "ABX9TyNmgUhx+aNe9A+rKrAaaV+u",
      "include_colab_link": true
    },
    "kernelspec": {
      "name": "python3",
      "display_name": "Python 3"
    },
    "language_info": {
      "name": "python"
    }
  },
  "cells": [
    {
      "cell_type": "markdown",
      "metadata": {
        "id": "view-in-github",
        "colab_type": "text"
      },
      "source": [
        "<a href=\"https://colab.research.google.com/github/Ramisetty-shasank-teja/daily-practice/blob/main/Daily_practice.ipynb\" target=\"_parent\"><img src=\"https://colab.research.google.com/assets/colab-badge.svg\" alt=\"Open In Colab\"/></a>"
      ]
    },
    {
      "cell_type": "code",
      "source": [
        "# Change every letter with the next lexicographic alphabet in the given string\n",
        "\n",
        "\n",
        "def next_letter(text):\n",
        "    result=\"\"\n",
        "\n",
        "    for char in text:\n",
        "        if char.isalpha():\n",
        "            if char =='z':\n",
        "                result+='a'\n",
        "            elif char =='Z':\n",
        "                result+='A'\n",
        "            else:\n",
        "                result+=chr(ord(char)+1)\n",
        "        else:\n",
        "            result+=char\n",
        "    return result\n",
        "enter = input(\"Enter a string: \")\n",
        "output = next_letter(enter)\n",
        "print(\"Shifted string:\", output)\n",
        "\n",
        "\n",
        "\n",
        ""
      ],
      "metadata": {
        "colab": {
          "base_uri": "https://localhost:8080/"
        },
        "id": "xAJw1uuk3ita",
        "outputId": "8d4f150e-109c-42d8-826b-c4452c4552ae"
      },
      "execution_count": 3,
      "outputs": [
        {
          "output_type": "stream",
          "name": "stdout",
          "text": [
            "Enter a string: shasank teja\n",
            "Shifted string: tibtbol ufkb\n"
          ]
        }
      ]
    },
    {
      "cell_type": "code",
      "source": [
        "# Write a program to find the largest word in a given string.\n",
        "\n",
        "def largest_string(text):\n",
        "    words=text.split()\n",
        "    largest=\"\"\n",
        "\n",
        "    for word in words:\n",
        "        if len(word) > len(largest):\n",
        "            largest =word\n",
        "\n",
        "    return largest\n",
        "enter = input(\"Enter a string: \")\n",
        "output = largest_string(enter)\n",
        "print(\"Largest word:\", output)"
      ],
      "metadata": {
        "colab": {
          "base_uri": "https://localhost:8080/"
        },
        "id": "egGk9BDrurX2",
        "outputId": "f6eea0e2-6b99-4dae-eeb2-dc5c39cda76a"
      },
      "execution_count": 2,
      "outputs": [
        {
          "output_type": "stream",
          "name": "stdout",
          "text": [
            "Enter a string:  soai s aooisoa aooioiao oao ao oa \n",
            "Largest word: aooioiao\n"
          ]
        }
      ]
    },
    {
      "cell_type": "code",
      "source": [
        "# Write a program to sort characters in a string\n",
        "\n",
        "def sort_characters(text):\n",
        "    return \"\".join(sorted(text))\n",
        "\n",
        "# Example usage\n",
        "input_str = input(\"Enter a string: \")\n",
        "output = sort_characters(input_str)\n",
        "print(\"Sorted characters:\", output)"
      ],
      "metadata": {
        "colab": {
          "base_uri": "https://localhost:8080/"
        },
        "id": "x5CbeRNbrkNu",
        "outputId": "f7b51a72-bf06-491c-d499-20fa861de0dd"
      },
      "execution_count": 1,
      "outputs": [
        {
          "output_type": "stream",
          "name": "stdout",
          "text": [
            "Enter a string: shasank teja\n",
            "Sorted characters:  aaaehjknsst\n"
          ]
        }
      ]
    },
    {
      "cell_type": "code",
      "source": [
        "# Count number of words and letters in a given string\n",
        "\n",
        "\n",
        "def count(text):\n",
        "    word=text.split()\n",
        "    words_count=len(word)\n",
        "\n",
        "    letter_count=0\n",
        "    for char in text:\n",
        "        if char.isalpha():\n",
        "            letter_count+=1\n",
        "    return words_count,letter_count\n",
        "\n",
        "\n",
        "\n",
        "enter=input(\"enter a string : \")\n",
        "output,inpute=count(enter)\n",
        "\n",
        "print(\"Number of words :\",output)\n",
        "print(\"Number of letters :\",inpute)\n"
      ],
      "metadata": {
        "colab": {
          "base_uri": "https://localhost:8080/"
        },
        "id": "7eLbFi1YbwKh",
        "outputId": "0c7d0de2-282d-45c5-c1ad-b405f56bb7eb"
      },
      "execution_count": 1,
      "outputs": [
        {
          "output_type": "stream",
          "name": "stdout",
          "text": [
            "enter a string : python is cool\n",
            "Number of words : 3\n",
            "Number of letters : 12\n"
          ]
        }
      ]
    },
    {
      "cell_type": "code",
      "source": [
        "# Change case of each character in a string\n",
        "\n",
        "\n",
        "def string(text):\n",
        "    result=[]\n",
        "    for char in text:\n",
        "        if char.isupper():\n",
        "            result.append(char.lower())\n",
        "        elif char.islower():\n",
        "            result.append(char.upper())\n",
        "        else:\n",
        "            result.append(char)\n",
        "    return \"\".join(result)\n",
        "enter=input(\"enter a string : \")\n",
        "output=string(enter)\n",
        "print(\"Output is :\",output)"
      ],
      "metadata": {
        "colab": {
          "base_uri": "https://localhost:8080/"
        },
        "id": "IC1upuEJBig1",
        "outputId": "df5a40ff-b97e-4d58-fa99-fc291c718eb6"
      },
      "execution_count": 3,
      "outputs": [
        {
          "output_type": "stream",
          "name": "stdout",
          "text": [
            "enter a string : AsDfGhJkLq\n",
            "Output is : aSdFgHjKlQ\n"
          ]
        }
      ]
    },
    {
      "cell_type": "code",
      "source": [
        "# Concatenate one string to another\n",
        "\n",
        "def strings(text1,text2):\n",
        "    return text1+\" \"+text2\n",
        "\n",
        "\n",
        "\n",
        "str1=input(\"Enter a string : \")\n",
        "str2=input(\"enter a sub string :\")\n",
        "sr=strings(str1,str2)\n",
        "print(sr)"
      ],
      "metadata": {
        "colab": {
          "base_uri": "https://localhost:8080/"
        },
        "id": "JX8jL7Gy-LRC",
        "outputId": "a5d2a084-d698-41ba-bae1-2b787d3a8fdc"
      },
      "execution_count": null,
      "outputs": [
        {
          "output_type": "stream",
          "name": "stdout",
          "text": [
            "Enter a string : shasank\n",
            "enter a sub string :teja\n",
            "shasank teja\n"
          ]
        }
      ]
    },
    {
      "cell_type": "code",
      "source": [
        "# Write a program to find a substring within a string. If found display its starting position\n",
        "\n",
        "def find_substring(text,pattern):\n",
        "    m=len(text)\n",
        "    n=len(pattern)\n",
        "\n",
        "    for i in range(m-n+1):\n",
        "        match =True\n",
        "        for j in range(n):\n",
        "            if text[i+j] != pattern[j]:\n",
        "                match=False\n",
        "                break\n",
        "        if match:\n",
        "            return i\n",
        "    return -1\n",
        "enter=input(\"Enter a long string : \")\n",
        "exit=input(\"Enter a sub string:  \")\n",
        "position=find_substring(enter,exit)\n",
        "if  position !=-1:\n",
        "    print(f\"the {exit} is at the position {position}\")\n",
        "else:\n",
        "    print(f\"the sub string is not found\")"
      ],
      "metadata": {
        "colab": {
          "base_uri": "https://localhost:8080/"
        },
        "id": "agDvdYub0h-c",
        "outputId": "2da94e2f-2a48-461e-a134-17bf0ae4693c"
      },
      "execution_count": null,
      "outputs": [
        {
          "output_type": "stream",
          "name": "stdout",
          "text": [
            "Enter a long string : pyhton\n",
            "Enter a sub string:  n\n",
            "the n is at the position 5\n"
          ]
        }
      ]
    },
    {
      "cell_type": "markdown",
      "source": [],
      "metadata": {
        "id": "BSAlnYkEZwjL"
      }
    },
    {
      "cell_type": "code",
      "source": [
        "# Reverse words in a string\n",
        "\n",
        "def reverse_words(text):\n",
        "    # Step 1: Split the string into words (handles extra spaces)\n",
        "    words = text.strip().split()\n",
        "\n",
        "    # Step 2: Reverse the list of words\n",
        "    reversed_words = words[::-1]\n",
        "\n",
        "    # Step 3: Join the words back into a single string\n",
        "    return ' '.join(reversed_words)\n",
        "input_str = input(\"Enter a String : \")\n",
        "output_str = reverse_words(input_str)\n",
        "print(\"Reversed:\", output_str)\n"
      ],
      "metadata": {
        "id": "LmAQlosBKVAy",
        "colab": {
          "base_uri": "https://localhost:8080/"
        },
        "outputId": "b2b28cb3-049e-40b3-a96f-c08327efa7fe"
      },
      "execution_count": 4,
      "outputs": [
        {
          "output_type": "stream",
          "name": "stdout",
          "text": [
            "Enter a String : join a\n",
            "Reversed: a join\n"
          ]
        }
      ]
    },
    {
      "cell_type": "code",
      "source": [
        "# Check if two strings are anagram of each other\n",
        "def anagrams(str1,srt2):\n",
        "    if len(str1)!=len(str2):\n",
        "        return False\n",
        "\n",
        "    freq1={}\n",
        "    freq2={}\n",
        "\n",
        "    for char in str1:\n",
        "        freq1[char]=freq1.get(char,0)+1\n",
        "\n",
        "    for char in str2:\n",
        "        freq2[char]=freq2.get(char,0)+1\n",
        "\n",
        "    return freq1==freq2\n",
        "\n",
        "str1=input(\"Enter a String1 : \")\n",
        "str2=input(\"Enter a String2 : \")\n",
        "if anagrams(str1,str2):\n",
        "    print(\"they are anagrams\")\n",
        "else:\n",
        "    print(\"they are not anagrams\")"
      ],
      "metadata": {
        "colab": {
          "base_uri": "https://localhost:8080/"
        },
        "id": "2jLEw3G0qzRS",
        "outputId": "cbc88546-ed1e-4cf6-9bf7-8b9cd872e54b"
      },
      "execution_count": null,
      "outputs": [
        {
          "output_type": "stream",
          "name": "stdout",
          "text": [
            "Enter a String1 : listen\n",
            "Enter a String2 : silent\n",
            "they are anagrams\n"
          ]
        }
      ]
    },
    {
      "cell_type": "code",
      "source": [
        "# Find Non-repeating characters of a String\n",
        "def find_non_repeating_chars(text):\n",
        "    freq = {}\n",
        "\n",
        "    # Step 1: Count the frequency of each character\n",
        "    for char in text:\n",
        "        freq[char] = freq.get(char, 0) + 1\n",
        "\n",
        "    # Step 2: Collect characters with frequency 1\n",
        "    result = [char for char in text if freq[char] == 1]\n",
        "\n",
        "    return result\n",
        "\n",
        "# Example usage\n",
        "input_str = input(\"Enter a string: \")\n",
        "output = find_non_repeating_chars(input_str)\n",
        "print(\"Non-repeating characters:\", output)"
      ],
      "metadata": {
        "colab": {
          "base_uri": "https://localhost:8080/"
        },
        "id": "ui7fJ1E7jdg9",
        "outputId": "8d5e86bd-d9ef-4dd1-b608-88c8b4341916"
      },
      "execution_count": null,
      "outputs": [
        {
          "output_type": "stream",
          "name": "stdout",
          "text": [
            "Enter a string: rwfiuwiffeealeli\n",
            "Non-repeating characters: ['r', 'u', 'a']\n"
          ]
        }
      ]
    },
    {
      "cell_type": "code",
      "source": [
        "# Calculate frequency of characters in a string\n",
        "def char_frequency(text):\n",
        "    freq = {}\n",
        "\n",
        "    for char in text:\n",
        "        if char in freq:\n",
        "            freq[char] += 1\n",
        "        else:\n",
        "            freq[char] = 1\n",
        "\n",
        "    return freq\n",
        "\n",
        "# Example usage\n",
        "input_str = input(\"Enter a string: \")\n",
        "output = char_frequency(input_str)\n",
        "print(\"Character Frequencies:\", output)\n"
      ],
      "metadata": {
        "colab": {
          "base_uri": "https://localhost:8080/"
        },
        "id": "gtdtUQ6hgMKh",
        "outputId": "056c66ab-fdd2-4b6f-b904-9a4ac43e2411"
      },
      "execution_count": null,
      "outputs": [
        {
          "output_type": "stream",
          "name": "stdout",
          "text": [
            "Enter a string: uwfuheifuijslsoufhiuhjs\n",
            "Character Frequencies: {'u': 5, 'w': 1, 'f': 3, 'h': 3, 'e': 1, 'i': 3, 'j': 2, 's': 3, 'l': 1, 'o': 1}\n"
          ]
        }
      ]
    },
    {
      "cell_type": "code",
      "source": [
        "#Capitalize first and last character of each word\n",
        "\n",
        "\n",
        "def capitalize_first_last(text):\n",
        "    words = text.split()\n",
        "    result = []\n",
        "\n",
        "    for word in words:\n",
        "        if len(word) == 1:\n",
        "            result.append(word.upper())\n",
        "        else:\n",
        "            new_word = word[0].upper() + word[1:-1] + word[-1].upper()\n",
        "            result.append(new_word)\n",
        "\n",
        "    return \" \".join(result)\n",
        "\n",
        "# Example usage\n",
        "input_str = input(\"Enter a string: \")\n",
        "output_str = capitalize_first_last(input_str)\n",
        "print(\"Output:\", output_str)\n"
      ],
      "metadata": {
        "colab": {
          "base_uri": "https://localhost:8080/"
        },
        "id": "gMDTTtjYZb1J",
        "outputId": "45afabc4-fb45-451e-ca18-9f3e44516c7d"
      },
      "execution_count": 5,
      "outputs": [
        {
          "output_type": "stream",
          "name": "stdout",
          "text": [
            "Enter a string: string\n",
            "Output: StrinG\n"
          ]
        }
      ]
    },
    {
      "cell_type": "markdown",
      "source": [
        "**Sum of the numbers in a String**\n",
        "\n",
        "\n",
        "\n",
        "def sum_of_numbers_in_string(text):\n",
        "    total = 0\n",
        "    num = \"\"\n",
        "    \n",
        "    for char in text:\n",
        "        if char.isdigit():\n",
        "            num += char\n",
        "        else:\n",
        "            if num:\n",
        "                total += int(num)\n",
        "                num = \"\"\n",
        "    \n",
        "    if num:  # for number at the end\n",
        "        total += int(num)\n",
        "    \n",
        "    return total\n",
        "\n",
        "# Example usage\n",
        "input_str = input(\"Enter a string: \")\n",
        "print(\"Sum of numbers:\", sum_of_numbers_in_string(input_str))\n"
      ],
      "metadata": {
        "id": "_8MrDND1GI8O"
      }
    },
    {
      "cell_type": "code",
      "source": [
        "def remove_vowels(text):\n",
        "    vowels = \"aeiouAEIOU\"\n",
        "    result = \"\"\n",
        "\n",
        "    for char in text:\n",
        "        if char not in vowels:\n",
        "            result += char\n",
        "    return result\n",
        "\n",
        "# Example usage\n",
        "input_str = input(\"Enter a string: \")\n",
        "output_str = remove_vowels(input_str)\n",
        "print(\"String without vowels:\", output_str)\n"
      ],
      "metadata": {
        "colab": {
          "base_uri": "https://localhost:8080/"
        },
        "id": "o7xtMhwXXy-o",
        "outputId": "c5c4e2b3-851e-4261-9386-1d64bf3ec27d"
      },
      "execution_count": null,
      "outputs": [
        {
          "output_type": "stream",
          "name": "stdout",
          "text": [
            "Enter a string: himavarsha\n",
            "String without vowels: hmvrsh\n"
          ]
        }
      ]
    },
    {
      "cell_type": "code",
      "source": [
        "def remove_spaces(text):\n",
        "    return text.replace(\" \", \"\")\n",
        "\n",
        "# Example usage\n",
        "input_str = input(\"Enter a string: \")\n",
        "output_str = remove_spaces(input_str)\n",
        "print(\"String without spaces:\", output_str)\n"
      ],
      "metadata": {
        "colab": {
          "base_uri": "https://localhost:8080/"
        },
        "id": "fPfL9AUfYIcZ",
        "outputId": "f4825aa1-6d9c-461b-fd7f-54bd213fd10e"
      },
      "execution_count": null,
      "outputs": [
        {
          "output_type": "stream",
          "name": "stdout",
          "text": [
            "Enter a string: hello world\n",
            "String without spaces: helloworld\n"
          ]
        }
      ]
    },
    {
      "cell_type": "code",
      "source": [
        "char = input(\"Enter a character: \")\n",
        "ascii_value = ord(char)\n",
        "print(f\"The ASCII value of '{char}' is {ascii_value}\")\n"
      ],
      "metadata": {
        "colab": {
          "base_uri": "https://localhost:8080/"
        },
        "id": "hjkKWFYbKttl",
        "outputId": "86e52a0b-b5cf-4d80-9d33-f7430798d8f5"
      },
      "execution_count": null,
      "outputs": [
        {
          "output_type": "stream",
          "name": "stdout",
          "text": [
            "Enter a character:  \n",
            "The ASCII value of ' ' is 32\n"
          ]
        }
      ]
    },
    {
      "cell_type": "code",
      "source": [
        "def is_palindrome(text):\n",
        "    # Remove spaces and convert to lowercase for uniformity\n",
        "    cleaned_text = text.replace(\" \", \"\").lower()\n",
        "\n",
        "    # Compare string with its reverse\n",
        "    return cleaned_text == cleaned_text[::-1]\n",
        "\n",
        "# Input from user\n",
        "user_input = input(\"Enter a string: \")\n",
        "\n",
        "# Check and display result\n",
        "if is_palindrome(user_input):\n",
        "    print(\"Palindrome ✅\")\n",
        "else:\n",
        "    print(\"Not a palindrome ❌\")\n"
      ],
      "metadata": {
        "colab": {
          "base_uri": "https://localhost:8080/"
        },
        "id": "k78gi210GK_T",
        "outputId": "fb173442-3868-4897-a39b-8b0453dede95"
      },
      "execution_count": null,
      "outputs": [
        {
          "output_type": "stream",
          "name": "stdout",
          "text": [
            "Enter a string: pythin is easy\n",
            "Not a palindrome ❌\n"
          ]
        }
      ]
    },
    {
      "cell_type": "code",
      "execution_count": null,
      "metadata": {
        "colab": {
          "base_uri": "https://localhost:8080/"
        },
        "id": "hwJVBupE85YI",
        "outputId": "493f94c8-ab57-419f-8442-c6e0ef352cfc"
      },
      "outputs": [
        {
          "output_type": "stream",
          "name": "stdout",
          "text": [
            "hello world\n",
            "\u001b[33mhint: Using 'master' as the name for the initial branch. This default branch name\u001b[m\n",
            "\u001b[33mhint: is subject to change. To configure the initial branch name to use in all\u001b[m\n",
            "\u001b[33mhint: of your new repositories, which will suppress this warning, call:\u001b[m\n",
            "\u001b[33mhint: \u001b[m\n",
            "\u001b[33mhint: \tgit config --global init.defaultBranch <name>\u001b[m\n",
            "\u001b[33mhint: \u001b[m\n",
            "\u001b[33mhint: Names commonly chosen instead of 'master' are 'main', 'trunk' and\u001b[m\n",
            "\u001b[33mhint: 'development'. The just-created branch can be renamed via this command:\u001b[m\n",
            "\u001b[33mhint: \u001b[m\n",
            "\u001b[33mhint: \tgit branch -m <name>\u001b[m\n",
            "Initialized empty Git repository in /content/.git/\n",
            "Switched to a new branch 'main'\n",
            "[main (root-commit) c17e351] Initial commit\n",
            " 22 files changed, 51026 insertions(+)\n",
            " create mode 100644 .config/.last_opt_in_prompt.yaml\n",
            " create mode 100644 .config/.last_survey_prompt.yaml\n",
            " create mode 100644 .config/.last_update_check.json\n",
            " create mode 100644 .config/active_config\n",
            " create mode 100644 .config/config_sentinel\n",
            " create mode 100644 .config/configurations/config_default\n",
            " create mode 100644 .config/default_configs.db\n",
            " create mode 100644 .config/gce\n",
            " create mode 100644 .config/hidden_gcloud_config_universe_descriptor_data_cache_configs.db\n",
            " create mode 100644 .config/logs/2025.07.23/13.38.40.193500.log\n",
            " create mode 100644 .config/logs/2025.07.23/13.39.06.943778.log\n",
            " create mode 100644 .config/logs/2025.07.23/13.39.15.657241.log\n",
            " create mode 100644 .config/logs/2025.07.23/13.39.18.294679.log\n",
            " create mode 100644 .config/logs/2025.07.23/13.39.27.206575.log\n",
            " create mode 100644 .config/logs/2025.07.23/13.39.27.961516.log\n",
            " create mode 100644 sample.py\n",
            " create mode 100755 sample_data/README.md\n",
            " create mode 100755 sample_data/anscombe.json\n",
            " create mode 100644 sample_data/california_housing_test.csv\n",
            " create mode 100644 sample_data/california_housing_train.csv\n",
            " create mode 100644 sample_data/mnist_test.csv\n",
            " create mode 100644 sample_data/mnist_train_small.csv\n",
            "fatal: could not read Username for 'https://github.com': No such device or address\n"
          ]
        }
      ],
      "source": [
        "print(\"hello world\")\n",
        "!git config --global user.name \"Ramisetty-shasank-teja\"\n",
        "!git config --global user.email \"shasankteja2005@gmail.com\"\n",
        "!git init\n",
        "!git remote add origin https://github.com/Ramisetty-shasank-teja/daily-practice.git\n",
        "!git checkout -b main\n",
        "!git add .\n",
        "!git commit -m \"Initial commit\"\n",
        "!git push -u origin main\n",
        "\n"
      ]
    }
  ]
}